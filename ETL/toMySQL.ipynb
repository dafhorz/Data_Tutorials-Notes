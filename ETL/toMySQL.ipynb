{
 "cells": [
  {
   "cell_type": "markdown",
   "metadata": {},
   "source": [
    "# ETL Process"
   ]
  },
  {
   "cell_type": "markdown",
   "metadata": {},
   "source": [
    "Short description"
   ]
  },
  {
   "cell_type": "code",
   "execution_count": 1,
   "metadata": {},
   "outputs": [],
   "source": [
    "import pandas as pd\n",
    "import numpy as np\n",
    "import seaborn as sns\n",
    "import matplotlib.pyplot as plt\n",
    "%matplotlib inline\n",
    "sns.set(color_codes=True)"
   ]
  },
  {
   "cell_type": "markdown",
   "metadata": {},
   "source": [
    "# MYSQL to Python"
   ]
  },
  {
   "cell_type": "code",
   "execution_count": 2,
   "metadata": {},
   "outputs": [],
   "source": [
    "import pymysql as sql\n",
    "from credentials import credentials"
   ]
  },
  {
   "cell_type": "markdown",
   "metadata": {},
   "source": [
    "## Stablishing a connection"
   ]
  },
  {
   "cell_type": "code",
   "execution_count": 3,
   "metadata": {},
   "outputs": [],
   "source": [
    "user = credentials.get('USERNAME')\n",
    "passwd = credentials.get('PASSWORD')"
   ]
  },
  {
   "cell_type": "code",
   "execution_count": 4,
   "metadata": {},
   "outputs": [],
   "source": [
    "# creating connection\n",
    "con = sql.connect(\n",
    "                host = '127.0.0.1', user = user, passwd = passwd) #optional - db=\"schema_name\"  "
   ]
  },
  {
   "cell_type": "code",
   "execution_count": 5,
   "metadata": {},
   "outputs": [],
   "source": [
    "cursor = con.cursor()"
   ]
  },
  {
   "cell_type": "markdown",
   "metadata": {},
   "source": [
    "## Executing SQL statements"
   ]
  },
  {
   "cell_type": "markdown",
   "metadata": {},
   "source": [
    "In order to run MySQL comands within Python, we need to use the **execute()** function. <br> <br>\n",
    "\n",
    "A Database has been created from MySQL Workbench, so now let's create a table from Python. <br>\n",
    "After specifying which DB to use and writing the Table's attributes, we must **commit** for the commands to take action."
   ]
  },
  {
   "cell_type": "code",
   "execution_count": 6,
   "metadata": {},
   "outputs": [
    {
     "data": {
      "text/plain": [
       "0"
      ]
     },
     "execution_count": 6,
     "metadata": {},
     "output_type": "execute_result"
    }
   ],
   "source": [
    "cursor.execute(\"USE drinksDB;\")\n",
    "cursor.execute(\"DROP TABLE IF EXISTS Drinks;\")\n",
    "cursor.execute(\"\"\"\n",
    "CREATE TABLE IF NOT EXISTS Drinks(\n",
    "    Country VARCHAR(50) NOT NULL,\n",
    "    Beer_servings INT NOT NULL,\n",
    "    Spirit_servings INT NOT NULL,\n",
    "    Wine_servings INT NOT NULL,\n",
    "    Total_litres_of_pure_alcohol FLOAT NOT NULL,\n",
    "    Continent VARCHAR(2) );\n",
    "\"\"\")\n",
    "               \n",
    "               \n"
   ]
  },
  {
   "cell_type": "code",
   "execution_count": 7,
   "metadata": {},
   "outputs": [],
   "source": [
    "con.commit()"
   ]
  },
  {
   "cell_type": "markdown",
   "metadata": {},
   "source": [
    "## INSERT"
   ]
  },
  {
   "cell_type": "markdown",
   "metadata": {},
   "source": [
    "Before we insert the values, we need to clean the data. Let's start by using Pandas to read the csv file."
   ]
  },
  {
   "cell_type": "code",
   "execution_count": 8,
   "metadata": {},
   "outputs": [
    {
     "data": {
      "text/html": [
       "<div>\n",
       "<style scoped>\n",
       "    .dataframe tbody tr th:only-of-type {\n",
       "        vertical-align: middle;\n",
       "    }\n",
       "\n",
       "    .dataframe tbody tr th {\n",
       "        vertical-align: top;\n",
       "    }\n",
       "\n",
       "    .dataframe thead th {\n",
       "        text-align: right;\n",
       "    }\n",
       "</style>\n",
       "<table border=\"1\" class=\"dataframe\">\n",
       "  <thead>\n",
       "    <tr style=\"text-align: right;\">\n",
       "      <th></th>\n",
       "      <th>country</th>\n",
       "      <th>beer_servings</th>\n",
       "      <th>spirit_servings</th>\n",
       "      <th>wine_servings</th>\n",
       "      <th>total_litres_of_pure_alcohol</th>\n",
       "      <th>continent</th>\n",
       "    </tr>\n",
       "  </thead>\n",
       "  <tbody>\n",
       "    <tr>\n",
       "      <th>0</th>\n",
       "      <td>Afghanistan</td>\n",
       "      <td>0</td>\n",
       "      <td>0</td>\n",
       "      <td>0</td>\n",
       "      <td>0.0</td>\n",
       "      <td>AS</td>\n",
       "    </tr>\n",
       "    <tr>\n",
       "      <th>1</th>\n",
       "      <td>Albania</td>\n",
       "      <td>89</td>\n",
       "      <td>132</td>\n",
       "      <td>54</td>\n",
       "      <td>4.9</td>\n",
       "      <td>EU</td>\n",
       "    </tr>\n",
       "    <tr>\n",
       "      <th>2</th>\n",
       "      <td>Algeria</td>\n",
       "      <td>25</td>\n",
       "      <td>0</td>\n",
       "      <td>14</td>\n",
       "      <td>0.7</td>\n",
       "      <td>AF</td>\n",
       "    </tr>\n",
       "    <tr>\n",
       "      <th>3</th>\n",
       "      <td>Andorra</td>\n",
       "      <td>245</td>\n",
       "      <td>138</td>\n",
       "      <td>312</td>\n",
       "      <td>12.4</td>\n",
       "      <td>EU</td>\n",
       "    </tr>\n",
       "    <tr>\n",
       "      <th>4</th>\n",
       "      <td>Angola</td>\n",
       "      <td>217</td>\n",
       "      <td>57</td>\n",
       "      <td>45</td>\n",
       "      <td>5.9</td>\n",
       "      <td>AF</td>\n",
       "    </tr>\n",
       "  </tbody>\n",
       "</table>\n",
       "</div>"
      ],
      "text/plain": [
       "       country  beer_servings  spirit_servings  wine_servings  \\\n",
       "0  Afghanistan              0                0              0   \n",
       "1      Albania             89              132             54   \n",
       "2      Algeria             25                0             14   \n",
       "3      Andorra            245              138            312   \n",
       "4       Angola            217               57             45   \n",
       "\n",
       "   total_litres_of_pure_alcohol continent  \n",
       "0                           0.0        AS  \n",
       "1                           4.9        EU  \n",
       "2                           0.7        AF  \n",
       "3                          12.4        EU  \n",
       "4                           5.9        AF  "
      ]
     },
     "execution_count": 8,
     "metadata": {},
     "output_type": "execute_result"
    }
   ],
   "source": [
    "raw_data = pd.read_csv('drinks.csv')\n",
    "df = raw_data.copy()\n",
    "df.head()"
   ]
  },
  {
   "cell_type": "markdown",
   "metadata": {},
   "source": [
    "Now, observe that there are 23 null values in the *continent* column. We need to assign valid values to them."
   ]
  },
  {
   "cell_type": "code",
   "execution_count": 9,
   "metadata": {},
   "outputs": [
    {
     "data": {
      "text/plain": [
       "country                          0\n",
       "beer_servings                    0\n",
       "spirit_servings                  0\n",
       "wine_servings                    0\n",
       "total_litres_of_pure_alcohol     0\n",
       "continent                       23\n",
       "dtype: int64"
      ]
     },
     "execution_count": 9,
     "metadata": {},
     "output_type": "execute_result"
    }
   ],
   "source": [
    "df.isnull().sum()"
   ]
  },
  {
   "cell_type": "code",
   "execution_count": 10,
   "metadata": {},
   "outputs": [
    {
     "data": {
      "text/plain": [
       "array(['AS', 'EU', 'AF', nan, 'SA', 'OC'], dtype=object)"
      ]
     },
     "execution_count": 10,
     "metadata": {},
     "output_type": "execute_result"
    }
   ],
   "source": [
    "df['continent'].unique()"
   ]
  },
  {
   "cell_type": "markdown",
   "metadata": {},
   "source": [
    "Seems like **SA** represents *South America*, and we see no **NA**. So, let's visualize the null values to be sure."
   ]
  },
  {
   "cell_type": "code",
   "execution_count": 11,
   "metadata": {},
   "outputs": [
    {
     "data": {
      "text/html": [
       "<div>\n",
       "<style scoped>\n",
       "    .dataframe tbody tr th:only-of-type {\n",
       "        vertical-align: middle;\n",
       "    }\n",
       "\n",
       "    .dataframe tbody tr th {\n",
       "        vertical-align: top;\n",
       "    }\n",
       "\n",
       "    .dataframe thead th {\n",
       "        text-align: right;\n",
       "    }\n",
       "</style>\n",
       "<table border=\"1\" class=\"dataframe\">\n",
       "  <thead>\n",
       "    <tr style=\"text-align: right;\">\n",
       "      <th></th>\n",
       "      <th>country</th>\n",
       "      <th>beer_servings</th>\n",
       "      <th>spirit_servings</th>\n",
       "      <th>wine_servings</th>\n",
       "      <th>total_litres_of_pure_alcohol</th>\n",
       "      <th>continent</th>\n",
       "    </tr>\n",
       "  </thead>\n",
       "  <tbody>\n",
       "    <tr>\n",
       "      <th>5</th>\n",
       "      <td>Antigua &amp; Barbuda</td>\n",
       "      <td>102</td>\n",
       "      <td>128</td>\n",
       "      <td>45</td>\n",
       "      <td>4.9</td>\n",
       "      <td>NaN</td>\n",
       "    </tr>\n",
       "    <tr>\n",
       "      <th>11</th>\n",
       "      <td>Bahamas</td>\n",
       "      <td>122</td>\n",
       "      <td>176</td>\n",
       "      <td>51</td>\n",
       "      <td>6.3</td>\n",
       "      <td>NaN</td>\n",
       "    </tr>\n",
       "    <tr>\n",
       "      <th>14</th>\n",
       "      <td>Barbados</td>\n",
       "      <td>143</td>\n",
       "      <td>173</td>\n",
       "      <td>36</td>\n",
       "      <td>6.3</td>\n",
       "      <td>NaN</td>\n",
       "    </tr>\n",
       "    <tr>\n",
       "      <th>17</th>\n",
       "      <td>Belize</td>\n",
       "      <td>263</td>\n",
       "      <td>114</td>\n",
       "      <td>8</td>\n",
       "      <td>6.8</td>\n",
       "      <td>NaN</td>\n",
       "    </tr>\n",
       "    <tr>\n",
       "      <th>32</th>\n",
       "      <td>Canada</td>\n",
       "      <td>240</td>\n",
       "      <td>122</td>\n",
       "      <td>100</td>\n",
       "      <td>8.2</td>\n",
       "      <td>NaN</td>\n",
       "    </tr>\n",
       "    <tr>\n",
       "      <th>41</th>\n",
       "      <td>Costa Rica</td>\n",
       "      <td>149</td>\n",
       "      <td>87</td>\n",
       "      <td>11</td>\n",
       "      <td>4.4</td>\n",
       "      <td>NaN</td>\n",
       "    </tr>\n",
       "    <tr>\n",
       "      <th>43</th>\n",
       "      <td>Cuba</td>\n",
       "      <td>93</td>\n",
       "      <td>137</td>\n",
       "      <td>5</td>\n",
       "      <td>4.2</td>\n",
       "      <td>NaN</td>\n",
       "    </tr>\n",
       "    <tr>\n",
       "      <th>50</th>\n",
       "      <td>Dominica</td>\n",
       "      <td>52</td>\n",
       "      <td>286</td>\n",
       "      <td>26</td>\n",
       "      <td>6.6</td>\n",
       "      <td>NaN</td>\n",
       "    </tr>\n",
       "    <tr>\n",
       "      <th>51</th>\n",
       "      <td>Dominican Republic</td>\n",
       "      <td>193</td>\n",
       "      <td>147</td>\n",
       "      <td>9</td>\n",
       "      <td>6.2</td>\n",
       "      <td>NaN</td>\n",
       "    </tr>\n",
       "    <tr>\n",
       "      <th>54</th>\n",
       "      <td>El Salvador</td>\n",
       "      <td>52</td>\n",
       "      <td>69</td>\n",
       "      <td>2</td>\n",
       "      <td>2.2</td>\n",
       "      <td>NaN</td>\n",
       "    </tr>\n",
       "    <tr>\n",
       "      <th>68</th>\n",
       "      <td>Grenada</td>\n",
       "      <td>199</td>\n",
       "      <td>438</td>\n",
       "      <td>28</td>\n",
       "      <td>11.9</td>\n",
       "      <td>NaN</td>\n",
       "    </tr>\n",
       "    <tr>\n",
       "      <th>69</th>\n",
       "      <td>Guatemala</td>\n",
       "      <td>53</td>\n",
       "      <td>69</td>\n",
       "      <td>2</td>\n",
       "      <td>2.2</td>\n",
       "      <td>NaN</td>\n",
       "    </tr>\n",
       "    <tr>\n",
       "      <th>73</th>\n",
       "      <td>Haiti</td>\n",
       "      <td>1</td>\n",
       "      <td>326</td>\n",
       "      <td>1</td>\n",
       "      <td>5.9</td>\n",
       "      <td>NaN</td>\n",
       "    </tr>\n",
       "    <tr>\n",
       "      <th>74</th>\n",
       "      <td>Honduras</td>\n",
       "      <td>69</td>\n",
       "      <td>98</td>\n",
       "      <td>2</td>\n",
       "      <td>3.0</td>\n",
       "      <td>NaN</td>\n",
       "    </tr>\n",
       "    <tr>\n",
       "      <th>84</th>\n",
       "      <td>Jamaica</td>\n",
       "      <td>82</td>\n",
       "      <td>97</td>\n",
       "      <td>9</td>\n",
       "      <td>3.4</td>\n",
       "      <td>NaN</td>\n",
       "    </tr>\n",
       "    <tr>\n",
       "      <th>109</th>\n",
       "      <td>Mexico</td>\n",
       "      <td>238</td>\n",
       "      <td>68</td>\n",
       "      <td>5</td>\n",
       "      <td>5.5</td>\n",
       "      <td>NaN</td>\n",
       "    </tr>\n",
       "    <tr>\n",
       "      <th>122</th>\n",
       "      <td>Nicaragua</td>\n",
       "      <td>78</td>\n",
       "      <td>118</td>\n",
       "      <td>1</td>\n",
       "      <td>3.5</td>\n",
       "      <td>NaN</td>\n",
       "    </tr>\n",
       "    <tr>\n",
       "      <th>130</th>\n",
       "      <td>Panama</td>\n",
       "      <td>285</td>\n",
       "      <td>104</td>\n",
       "      <td>18</td>\n",
       "      <td>7.2</td>\n",
       "      <td>NaN</td>\n",
       "    </tr>\n",
       "    <tr>\n",
       "      <th>143</th>\n",
       "      <td>St. Kitts &amp; Nevis</td>\n",
       "      <td>194</td>\n",
       "      <td>205</td>\n",
       "      <td>32</td>\n",
       "      <td>7.7</td>\n",
       "      <td>NaN</td>\n",
       "    </tr>\n",
       "    <tr>\n",
       "      <th>144</th>\n",
       "      <td>St. Lucia</td>\n",
       "      <td>171</td>\n",
       "      <td>315</td>\n",
       "      <td>71</td>\n",
       "      <td>10.1</td>\n",
       "      <td>NaN</td>\n",
       "    </tr>\n",
       "    <tr>\n",
       "      <th>145</th>\n",
       "      <td>St. Vincent &amp; the Grenadines</td>\n",
       "      <td>120</td>\n",
       "      <td>221</td>\n",
       "      <td>11</td>\n",
       "      <td>6.3</td>\n",
       "      <td>NaN</td>\n",
       "    </tr>\n",
       "    <tr>\n",
       "      <th>174</th>\n",
       "      <td>Trinidad &amp; Tobago</td>\n",
       "      <td>197</td>\n",
       "      <td>156</td>\n",
       "      <td>7</td>\n",
       "      <td>6.4</td>\n",
       "      <td>NaN</td>\n",
       "    </tr>\n",
       "    <tr>\n",
       "      <th>184</th>\n",
       "      <td>USA</td>\n",
       "      <td>249</td>\n",
       "      <td>158</td>\n",
       "      <td>84</td>\n",
       "      <td>8.7</td>\n",
       "      <td>NaN</td>\n",
       "    </tr>\n",
       "  </tbody>\n",
       "</table>\n",
       "</div>"
      ],
      "text/plain": [
       "                          country  beer_servings  spirit_servings  \\\n",
       "5               Antigua & Barbuda            102              128   \n",
       "11                        Bahamas            122              176   \n",
       "14                       Barbados            143              173   \n",
       "17                         Belize            263              114   \n",
       "32                         Canada            240              122   \n",
       "41                     Costa Rica            149               87   \n",
       "43                           Cuba             93              137   \n",
       "50                       Dominica             52              286   \n",
       "51             Dominican Republic            193              147   \n",
       "54                    El Salvador             52               69   \n",
       "68                        Grenada            199              438   \n",
       "69                      Guatemala             53               69   \n",
       "73                          Haiti              1              326   \n",
       "74                       Honduras             69               98   \n",
       "84                        Jamaica             82               97   \n",
       "109                        Mexico            238               68   \n",
       "122                     Nicaragua             78              118   \n",
       "130                        Panama            285              104   \n",
       "143             St. Kitts & Nevis            194              205   \n",
       "144                     St. Lucia            171              315   \n",
       "145  St. Vincent & the Grenadines            120              221   \n",
       "174             Trinidad & Tobago            197              156   \n",
       "184                           USA            249              158   \n",
       "\n",
       "     wine_servings  total_litres_of_pure_alcohol continent  \n",
       "5               45                           4.9       NaN  \n",
       "11              51                           6.3       NaN  \n",
       "14              36                           6.3       NaN  \n",
       "17               8                           6.8       NaN  \n",
       "32             100                           8.2       NaN  \n",
       "41              11                           4.4       NaN  \n",
       "43               5                           4.2       NaN  \n",
       "50              26                           6.6       NaN  \n",
       "51               9                           6.2       NaN  \n",
       "54               2                           2.2       NaN  \n",
       "68              28                          11.9       NaN  \n",
       "69               2                           2.2       NaN  \n",
       "73               1                           5.9       NaN  \n",
       "74               2                           3.0       NaN  \n",
       "84               9                           3.4       NaN  \n",
       "109              5                           5.5       NaN  \n",
       "122              1                           3.5       NaN  \n",
       "130             18                           7.2       NaN  \n",
       "143             32                           7.7       NaN  \n",
       "144             71                          10.1       NaN  \n",
       "145             11                           6.3       NaN  \n",
       "174              7                           6.4       NaN  \n",
       "184             84                           8.7       NaN  "
      ]
     },
     "execution_count": 11,
     "metadata": {},
     "output_type": "execute_result"
    }
   ],
   "source": [
    "df.query('continent != continent')"
   ]
  },
  {
   "cell_type": "markdown",
   "metadata": {},
   "source": [
    "There seems to be only American countries in the list, so let's give it the right values."
   ]
  },
  {
   "cell_type": "code",
   "execution_count": 12,
   "metadata": {},
   "outputs": [
    {
     "name": "stderr",
     "output_type": "stream",
     "text": [
      "C:\\Users\\manol\\AppData\\Local\\Temp\\ipykernel_1716\\1375426894.py:2: SettingWithCopyWarning: \n",
      "A value is trying to be set on a copy of a slice from a DataFrame\n",
      "\n",
      "See the caveats in the documentation: https://pandas.pydata.org/pandas-docs/stable/user_guide/indexing.html#returning-a-view-versus-a-copy\n",
      "  df['continent'][i] = 'NA'\n",
      "C:\\Users\\manol\\AppData\\Local\\Temp\\ipykernel_1716\\1375426894.py:4: SettingWithCopyWarning: \n",
      "A value is trying to be set on a copy of a slice from a DataFrame\n",
      "\n",
      "See the caveats in the documentation: https://pandas.pydata.org/pandas-docs/stable/user_guide/indexing.html#returning-a-view-versus-a-copy\n",
      "  df['continent'][i] = 'SA'\n"
     ]
    }
   ],
   "source": [
    "for i in [32, 109, 184]:\n",
    "    df['continent'][i] = 'NA'\n",
    "for i in list( set(df.query('continent != continent').index) - set([32, 109, 184])  ):\n",
    "    df['continent'][i] = 'SA'"
   ]
  },
  {
   "cell_type": "code",
   "execution_count": 13,
   "metadata": {},
   "outputs": [
    {
     "data": {
      "text/html": [
       "<div>\n",
       "<style scoped>\n",
       "    .dataframe tbody tr th:only-of-type {\n",
       "        vertical-align: middle;\n",
       "    }\n",
       "\n",
       "    .dataframe tbody tr th {\n",
       "        vertical-align: top;\n",
       "    }\n",
       "\n",
       "    .dataframe thead th {\n",
       "        text-align: right;\n",
       "    }\n",
       "</style>\n",
       "<table border=\"1\" class=\"dataframe\">\n",
       "  <thead>\n",
       "    <tr style=\"text-align: right;\">\n",
       "      <th></th>\n",
       "      <th>country</th>\n",
       "      <th>beer_servings</th>\n",
       "      <th>spirit_servings</th>\n",
       "      <th>wine_servings</th>\n",
       "      <th>total_litres_of_pure_alcohol</th>\n",
       "      <th>continent</th>\n",
       "    </tr>\n",
       "  </thead>\n",
       "  <tbody>\n",
       "    <tr>\n",
       "      <th>32</th>\n",
       "      <td>Canada</td>\n",
       "      <td>240</td>\n",
       "      <td>122</td>\n",
       "      <td>100</td>\n",
       "      <td>8.2</td>\n",
       "      <td>NA</td>\n",
       "    </tr>\n",
       "    <tr>\n",
       "      <th>109</th>\n",
       "      <td>Mexico</td>\n",
       "      <td>238</td>\n",
       "      <td>68</td>\n",
       "      <td>5</td>\n",
       "      <td>5.5</td>\n",
       "      <td>NA</td>\n",
       "    </tr>\n",
       "    <tr>\n",
       "      <th>184</th>\n",
       "      <td>USA</td>\n",
       "      <td>249</td>\n",
       "      <td>158</td>\n",
       "      <td>84</td>\n",
       "      <td>8.7</td>\n",
       "      <td>NA</td>\n",
       "    </tr>\n",
       "  </tbody>\n",
       "</table>\n",
       "</div>"
      ],
      "text/plain": [
       "    country  beer_servings  spirit_servings  wine_servings  \\\n",
       "32   Canada            240              122            100   \n",
       "109  Mexico            238               68              5   \n",
       "184     USA            249              158             84   \n",
       "\n",
       "     total_litres_of_pure_alcohol continent  \n",
       "32                            8.2        NA  \n",
       "109                           5.5        NA  \n",
       "184                           8.7        NA  "
      ]
     },
     "execution_count": 13,
     "metadata": {},
     "output_type": "execute_result"
    }
   ],
   "source": [
    "df.query('continent == \"NA\"')"
   ]
  },
  {
   "cell_type": "markdown",
   "metadata": {},
   "source": [
    "Now, we need to create every single entry to INSERT it into the DB. We do the following: <br>\n",
    "1) iterate throw df's rows.\n",
    "2) Create a list containing each value in the row. (**arr**)\n",
    "3) Join such list creating a separation with a coma. (**','.join(arr)**)\n",
    "4) Create a list containing each of the entries. (**valueList**)\n",
    "5) Join the list, separating each value with a coma. (**','.join(valueList)**)\n",
    "6) Add a semicolon to indicate the last value to include and make the resulting string be called **values**."
   ]
  },
  {
   "cell_type": "code",
   "execution_count": 14,
   "metadata": {},
   "outputs": [
    {
     "data": {
      "text/plain": [
       "'(\"Afghanistan\",\"0\",\"0\",\"0\",\"0.0\",\"AS\"), (\"Albania\",\"89\",\"132\",\"54\",\"4.9\",\"EU\"), (\"Algeria\",\"25\",\"0\",\"14\",\"0.7\",\"AF\"), (\"Andorra\",\"245\",\"138\",\"312\",\"12.4\",\"EU\"), (\"Angola\",\"217\",\"57\",\"45\",\"5.9\",\"AF\"), (\"Antigua & Barbuda\",\"102\",\"128\",\"45\",\"4.9\",\"SA\"), (\"Argentina\",\"193\",\"25\",\"221\",\"8.3\",\"SA\"), (\"Armenia\",\"21\",\"179\",\"11\",\"3.8\",\"EU\"), (\"Australia\",\"261\",\"72\",\"212\",\"10.4\",\"OC\"), (\"Austria\",\"279\",\"75\",\"191\",\"9.7\",\"EU\"), (\"Azerbaijan\",\"21\",\"46\",\"5\",\"1.3\",\"EU\"), (\"Bahamas\",\"122\",\"176\",\"51\",\"6.3\",\"SA\"), (\"Bahrain\",\"42\",\"63\",\"7\",\"2.0\",\"AS\"), (\"Bangladesh\",\"0\",\"0\",\"0\",\"0.0\",\"AS\"), (\"Barbados\",\"143\",\"173\",\"36\",\"6.3\",\"SA\"), (\"Belarus\",\"142\",\"373\",\"42\",\"14.4\",\"EU\"), (\"Belgium\",\"295\",\"84\",\"212\",\"10.5\",\"EU\"), (\"Belize\",\"263\",\"114\",\"8\",\"6.8\",\"SA\"), (\"Benin\",\"34\",\"4\",\"13\",\"1.1\",\"AF\"), (\"Bhutan\",\"23\",\"0\",\"0\",\"0.4\",\"AS\"), (\"Bolivia\",\"167\",\"41\",\"8\",\"3.8\",\"SA\"), (\"Bosnia-Herzegovina\",\"76\",\"173\",\"8\",\"4.6\",\"EU\"), (\"Botswana\",\"173\",\"35\",\"35\",\"5.4\",\"AF\"), (\"Brazil\",\"245\",\"145\",\"16\",\"7.2\",\"SA\"), (\"Brunei\",\"31\",\"2\",\"1\",\"0.6\",\"AS\"), (\"Bulgaria\",\"231\",\"252\",\"94\",\"10.3\",\"EU\"), (\"Burkina Faso\",\"25\",\"7\",\"7\",\"4.3\",\"AF\"), (\"Burundi\",\"88\",\"0\",\"0\",\"6.3\",\"AF\"), (\"Cote d\\'Ivoire\",\"37\",\"1\",\"7\",\"4.0\",\"AF\"), (\"Cabo Verde\",\"144\",\"56\",\"16\",\"4.0\",\"AF\"), (\"Cambodia\",\"57\",\"65\",\"1\",\"2.2\",\"AS\"), (\"Cameroon\",\"147\",\"1\",\"4\",\"5.8\",\"AF\"), (\"Canada\",\"240\",\"122\",\"100\",\"8.2\",\"NA\"), (\"Central African Republic\",\"17\",\"2\",\"1\",\"1.8\",\"AF\"), (\"Chad\",\"15\",\"1\",\"1\",\"0.4\",\"AF\"), (\"Chile\",\"130\",\"124\",\"172\",\"7.6\",\"SA\"), (\"China\",\"79\",\"192\",\"8\",\"5.0\",\"AS\"), (\"Colombia\",\"159\",\"76\",\"3\",\"4.2\",\"SA\"), (\"Comoros\",\"1\",\"3\",\"1\",\"0.1\",\"AF\"), (\"Congo\",\"76\",\"1\",\"9\",\"1.7\",\"AF\"), (\"Cook Islands\",\"0\",\"254\",\"74\",\"5.9\",\"OC\"), (\"Costa Rica\",\"149\",\"87\",\"11\",\"4.4\",\"SA\"), (\"Croatia\",\"230\",\"87\",\"254\",\"10.2\",\"EU\"), (\"Cuba\",\"93\",\"137\",\"5\",\"4.2\",\"SA\"), (\"Cyprus\",\"192\",\"154\",\"113\",\"8.2\",\"EU\"), (\"Czech Republic\",\"361\",\"170\",\"134\",\"11.8\",\"EU\"), (\"North Korea\",\"0\",\"0\",\"0\",\"0.0\",\"AS\"), (\"DR Congo\",\"32\",\"3\",\"1\",\"2.3\",\"AF\"), (\"Denmark\",\"224\",\"81\",\"278\",\"10.4\",\"EU\"), (\"Djibouti\",\"15\",\"44\",\"3\",\"1.1\",\"AF\"), (\"Dominica\",\"52\",\"286\",\"26\",\"6.6\",\"SA\"), (\"Dominican Republic\",\"193\",\"147\",\"9\",\"6.2\",\"SA\"), (\"Ecuador\",\"162\",\"74\",\"3\",\"4.2\",\"SA\"), (\"Egypt\",\"6\",\"4\",\"1\",\"0.2\",\"AF\"), (\"El Salvador\",\"52\",\"69\",\"2\",\"2.2\",\"SA\"), (\"Equatorial Guinea\",\"92\",\"0\",\"233\",\"5.8\",\"AF\"), (\"Eritrea\",\"18\",\"0\",\"0\",\"0.5\",\"AF\"), (\"Estonia\",\"224\",\"194\",\"59\",\"9.5\",\"EU\"), (\"Ethiopia\",\"20\",\"3\",\"0\",\"0.7\",\"AF\"), (\"Fiji\",\"77\",\"35\",\"1\",\"2.0\",\"OC\"), (\"Finland\",\"263\",\"133\",\"97\",\"10.0\",\"EU\"), (\"France\",\"127\",\"151\",\"370\",\"11.8\",\"EU\"), (\"Gabon\",\"347\",\"98\",\"59\",\"8.9\",\"AF\"), (\"Gambia\",\"8\",\"0\",\"1\",\"2.4\",\"AF\"), (\"Georgia\",\"52\",\"100\",\"149\",\"5.4\",\"EU\"), (\"Germany\",\"346\",\"117\",\"175\",\"11.3\",\"EU\"), (\"Ghana\",\"31\",\"3\",\"10\",\"1.8\",\"AF\"), (\"Greece\",\"133\",\"112\",\"218\",\"8.3\",\"EU\"), (\"Grenada\",\"199\",\"438\",\"28\",\"11.9\",\"SA\"), (\"Guatemala\",\"53\",\"69\",\"2\",\"2.2\",\"SA\"), (\"Guinea\",\"9\",\"0\",\"2\",\"0.2\",\"AF\"), (\"Guinea-Bissau\",\"28\",\"31\",\"21\",\"2.5\",\"AF\"), (\"Guyana\",\"93\",\"302\",\"1\",\"7.1\",\"SA\"), (\"Haiti\",\"1\",\"326\",\"1\",\"5.9\",\"SA\"), (\"Honduras\",\"69\",\"98\",\"2\",\"3.0\",\"SA\"), (\"Hungary\",\"234\",\"215\",\"185\",\"11.3\",\"EU\"), (\"Iceland\",\"233\",\"61\",\"78\",\"6.6\",\"EU\"), (\"India\",\"9\",\"114\",\"0\",\"2.2\",\"AS\"), (\"Indonesia\",\"5\",\"1\",\"0\",\"0.1\",\"AS\"), (\"Iran\",\"0\",\"0\",\"0\",\"0.0\",\"AS\"), (\"Iraq\",\"9\",\"3\",\"0\",\"0.2\",\"AS\"), (\"Ireland\",\"313\",\"118\",\"165\",\"11.4\",\"EU\"), (\"Israel\",\"63\",\"69\",\"9\",\"2.5\",\"AS\"), (\"Italy\",\"85\",\"42\",\"237\",\"6.5\",\"EU\"), (\"Jamaica\",\"82\",\"97\",\"9\",\"3.4\",\"SA\"), (\"Japan\",\"77\",\"202\",\"16\",\"7.0\",\"AS\"), (\"Jordan\",\"6\",\"21\",\"1\",\"0.5\",\"AS\"), (\"Kazakhstan\",\"124\",\"246\",\"12\",\"6.8\",\"AS\"), (\"Kenya\",\"58\",\"22\",\"2\",\"1.8\",\"AF\"), (\"Kiribati\",\"21\",\"34\",\"1\",\"1.0\",\"OC\"), (\"Kuwait\",\"0\",\"0\",\"0\",\"0.0\",\"AS\"), (\"Kyrgyzstan\",\"31\",\"97\",\"6\",\"2.4\",\"AS\"), (\"Laos\",\"62\",\"0\",\"123\",\"6.2\",\"AS\"), (\"Latvia\",\"281\",\"216\",\"62\",\"10.5\",\"EU\"), (\"Lebanon\",\"20\",\"55\",\"31\",\"1.9\",\"AS\"), (\"Lesotho\",\"82\",\"29\",\"0\",\"2.8\",\"AF\"), (\"Liberia\",\"19\",\"152\",\"2\",\"3.1\",\"AF\"), (\"Libya\",\"0\",\"0\",\"0\",\"0.0\",\"AF\"), (\"Lithuania\",\"343\",\"244\",\"56\",\"12.9\",\"EU\"), (\"Luxembourg\",\"236\",\"133\",\"271\",\"11.4\",\"EU\"), (\"Madagascar\",\"26\",\"15\",\"4\",\"0.8\",\"AF\"), (\"Malawi\",\"8\",\"11\",\"1\",\"1.5\",\"AF\"), (\"Malaysia\",\"13\",\"4\",\"0\",\"0.3\",\"AS\"), (\"Maldives\",\"0\",\"0\",\"0\",\"0.0\",\"AS\"), (\"Mali\",\"5\",\"1\",\"1\",\"0.6\",\"AF\"), (\"Malta\",\"149\",\"100\",\"120\",\"6.6\",\"EU\"), (\"Marshall Islands\",\"0\",\"0\",\"0\",\"0.0\",\"OC\"), (\"Mauritania\",\"0\",\"0\",\"0\",\"0.0\",\"AF\"), (\"Mauritius\",\"98\",\"31\",\"18\",\"2.6\",\"AF\"), (\"Mexico\",\"238\",\"68\",\"5\",\"5.5\",\"NA\"), (\"Micronesia\",\"62\",\"50\",\"18\",\"2.3\",\"OC\"), (\"Monaco\",\"0\",\"0\",\"0\",\"0.0\",\"EU\"), (\"Mongolia\",\"77\",\"189\",\"8\",\"4.9\",\"AS\"), (\"Montenegro\",\"31\",\"114\",\"128\",\"4.9\",\"EU\"), (\"Morocco\",\"12\",\"6\",\"10\",\"0.5\",\"AF\"), (\"Mozambique\",\"47\",\"18\",\"5\",\"1.3\",\"AF\"), (\"Myanmar\",\"5\",\"1\",\"0\",\"0.1\",\"AS\"), (\"Namibia\",\"376\",\"3\",\"1\",\"6.8\",\"AF\"), (\"Nauru\",\"49\",\"0\",\"8\",\"1.0\",\"OC\"), (\"Nepal\",\"5\",\"6\",\"0\",\"0.2\",\"AS\"), (\"Netherlands\",\"251\",\"88\",\"190\",\"9.4\",\"EU\"), (\"New Zealand\",\"203\",\"79\",\"175\",\"9.3\",\"OC\"), (\"Nicaragua\",\"78\",\"118\",\"1\",\"3.5\",\"SA\"), (\"Niger\",\"3\",\"2\",\"1\",\"0.1\",\"AF\"), (\"Nigeria\",\"42\",\"5\",\"2\",\"9.1\",\"AF\"), (\"Niue\",\"188\",\"200\",\"7\",\"7.0\",\"OC\"), (\"Norway\",\"169\",\"71\",\"129\",\"6.7\",\"EU\"), (\"Oman\",\"22\",\"16\",\"1\",\"0.7\",\"AS\"), (\"Pakistan\",\"0\",\"0\",\"0\",\"0.0\",\"AS\"), (\"Palau\",\"306\",\"63\",\"23\",\"6.9\",\"OC\"), (\"Panama\",\"285\",\"104\",\"18\",\"7.2\",\"SA\"), (\"Papua New Guinea\",\"44\",\"39\",\"1\",\"1.5\",\"OC\"), (\"Paraguay\",\"213\",\"117\",\"74\",\"7.3\",\"SA\"), (\"Peru\",\"163\",\"160\",\"21\",\"6.1\",\"SA\"), (\"Philippines\",\"71\",\"186\",\"1\",\"4.6\",\"AS\"), (\"Poland\",\"343\",\"215\",\"56\",\"10.9\",\"EU\"), (\"Portugal\",\"194\",\"67\",\"339\",\"11.0\",\"EU\"), (\"Qatar\",\"1\",\"42\",\"7\",\"0.9\",\"AS\"), (\"South Korea\",\"140\",\"16\",\"9\",\"9.8\",\"AS\"), (\"Moldova\",\"109\",\"226\",\"18\",\"6.3\",\"EU\"), (\"Romania\",\"297\",\"122\",\"167\",\"10.4\",\"EU\"), (\"Russian Federation\",\"247\",\"326\",\"73\",\"11.5\",\"AS\"), (\"Rwanda\",\"43\",\"2\",\"0\",\"6.8\",\"AF\"), (\"St. Kitts & Nevis\",\"194\",\"205\",\"32\",\"7.7\",\"SA\"), (\"St. Lucia\",\"171\",\"315\",\"71\",\"10.1\",\"SA\"), (\"St. Vincent & the Grenadines\",\"120\",\"221\",\"11\",\"6.3\",\"SA\"), (\"Samoa\",\"105\",\"18\",\"24\",\"2.6\",\"OC\"), (\"San Marino\",\"0\",\"0\",\"0\",\"0.0\",\"EU\"), (\"Sao Tome & Principe\",\"56\",\"38\",\"140\",\"4.2\",\"AF\"), (\"Saudi Arabia\",\"0\",\"5\",\"0\",\"0.1\",\"AS\"), (\"Senegal\",\"9\",\"1\",\"7\",\"0.3\",\"AF\"), (\"Serbia\",\"283\",\"131\",\"127\",\"9.6\",\"EU\"), (\"Seychelles\",\"157\",\"25\",\"51\",\"4.1\",\"AF\"), (\"Sierra Leone\",\"25\",\"3\",\"2\",\"6.7\",\"AF\"), (\"Singapore\",\"60\",\"12\",\"11\",\"1.5\",\"AS\"), (\"Slovakia\",\"196\",\"293\",\"116\",\"11.4\",\"EU\"), (\"Slovenia\",\"270\",\"51\",\"276\",\"10.6\",\"EU\"), (\"Solomon Islands\",\"56\",\"11\",\"1\",\"1.2\",\"OC\"), (\"Somalia\",\"0\",\"0\",\"0\",\"0.0\",\"AF\"), (\"South Africa\",\"225\",\"76\",\"81\",\"8.2\",\"AF\"), (\"Spain\",\"284\",\"157\",\"112\",\"10.0\",\"EU\"), (\"Sri Lanka\",\"16\",\"104\",\"0\",\"2.2\",\"AS\"), (\"Sudan\",\"8\",\"13\",\"0\",\"1.7\",\"AF\"), (\"Suriname\",\"128\",\"178\",\"7\",\"5.6\",\"SA\"), (\"Swaziland\",\"90\",\"2\",\"2\",\"4.7\",\"AF\"), (\"Sweden\",\"152\",\"60\",\"186\",\"7.2\",\"EU\"), (\"Switzerland\",\"185\",\"100\",\"280\",\"10.2\",\"EU\"), (\"Syria\",\"5\",\"35\",\"16\",\"1.0\",\"AS\"), (\"Tajikistan\",\"2\",\"15\",\"0\",\"0.3\",\"AS\"), (\"Thailand\",\"99\",\"258\",\"1\",\"6.4\",\"AS\"), (\"Macedonia\",\"106\",\"27\",\"86\",\"3.9\",\"EU\"), (\"Timor-Leste\",\"1\",\"1\",\"4\",\"0.1\",\"AS\"), (\"Togo\",\"36\",\"2\",\"19\",\"1.3\",\"AF\"), (\"Tonga\",\"36\",\"21\",\"5\",\"1.1\",\"OC\"), (\"Trinidad & Tobago\",\"197\",\"156\",\"7\",\"6.4\",\"SA\"), (\"Tunisia\",\"51\",\"3\",\"20\",\"1.3\",\"AF\"), (\"Turkey\",\"51\",\"22\",\"7\",\"1.4\",\"AS\"), (\"Turkmenistan\",\"19\",\"71\",\"32\",\"2.2\",\"AS\"), (\"Tuvalu\",\"6\",\"41\",\"9\",\"1.0\",\"OC\"), (\"Uganda\",\"45\",\"9\",\"0\",\"8.3\",\"AF\"), (\"Ukraine\",\"206\",\"237\",\"45\",\"8.9\",\"EU\"), (\"United Arab Emirates\",\"16\",\"135\",\"5\",\"2.8\",\"AS\"), (\"United Kingdom\",\"219\",\"126\",\"195\",\"10.4\",\"EU\"), (\"Tanzania\",\"36\",\"6\",\"1\",\"5.7\",\"AF\"), (\"USA\",\"249\",\"158\",\"84\",\"8.7\",\"NA\"), (\"Uruguay\",\"115\",\"35\",\"220\",\"6.6\",\"SA\"), (\"Uzbekistan\",\"25\",\"101\",\"8\",\"2.4\",\"AS\"), (\"Vanuatu\",\"21\",\"18\",\"11\",\"0.9\",\"OC\"), (\"Venezuela\",\"333\",\"100\",\"3\",\"7.7\",\"SA\"), (\"Vietnam\",\"111\",\"2\",\"1\",\"2.0\",\"AS\"), (\"Yemen\",\"6\",\"0\",\"0\",\"0.1\",\"AS\"), (\"Zambia\",\"32\",\"19\",\"4\",\"2.5\",\"AF\"), (\"Zimbabwe\",\"64\",\"18\",\"4\",\"4.7\",\"AF\");'"
      ]
     },
     "execution_count": 14,
     "metadata": {},
     "output_type": "execute_result"
    }
   ],
   "source": [
    "valueList = []\n",
    "\n",
    "colNames = list(df.columns)\n",
    "for index,row in df.iterrows():\n",
    "    arr=['\"' + str(row[col]) + '\"' for col in colNames]\n",
    "    valueList.append( '(' + ','.join(arr) + ')' )\n",
    "\n",
    "values = ', '.join(valueList)+';'\n",
    "values\n"
   ]
  },
  {
   "cell_type": "markdown",
   "metadata": {
    "tags": []
   },
   "source": [
    "Finally, create the INSERT query with a separator (placeholder), execute it substituting %s by **values** and commit."
   ]
  },
  {
   "cell_type": "code",
   "execution_count": 15,
   "metadata": {},
   "outputs": [],
   "source": [
    "query = \"\"\"\n",
    "INSERT INTO drinks values %s\n",
    "\"\"\" %(values)"
   ]
  },
  {
   "cell_type": "code",
   "execution_count": 16,
   "metadata": {},
   "outputs": [
    {
     "data": {
      "text/plain": [
       "193"
      ]
     },
     "execution_count": 16,
     "metadata": {},
     "output_type": "execute_result"
    }
   ],
   "source": [
    "cursor.execute(\"\"\"\n",
    "INSERT INTO drinks values %s\n",
    "\"\"\" % values)"
   ]
  },
  {
   "cell_type": "code",
   "execution_count": 17,
   "metadata": {},
   "outputs": [],
   "source": [
    "con.commit()"
   ]
  }
 ],
 "metadata": {
  "kernelspec": {
   "display_name": "Python 3 (ipykernel)",
   "language": "python",
   "name": "python3"
  },
  "language_info": {
   "codemirror_mode": {
    "name": "ipython",
    "version": 3
   },
   "file_extension": ".py",
   "mimetype": "text/x-python",
   "name": "python",
   "nbconvert_exporter": "python",
   "pygments_lexer": "ipython3",
   "version": "3.9.15"
  },
  "toc-autonumbering": false,
  "toc-showcode": false
 },
 "nbformat": 4,
 "nbformat_minor": 4
}
